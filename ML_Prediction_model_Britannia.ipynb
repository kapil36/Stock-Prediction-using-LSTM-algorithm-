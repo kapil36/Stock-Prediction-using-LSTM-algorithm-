{
 "cells": [
  {
   "cell_type": "code",
   "execution_count": 1,
   "id": "011a1c52",
   "metadata": {},
   "outputs": [],
   "source": [
    "import math\n",
    "import pandas_datareader as web\n",
    "import numpy as np\n",
    "import pandas as pd\n",
    "from sklearn.preprocessing import MinMaxScaler\n",
    "from sklearn.preprocessing import StandardScaler\n",
    "from keras.models import Sequential \n",
    "from keras.layers import Dense, LSTM  # importing layers package , Dense layer is used to connect all layers\n",
    "import matplotlib.pyplot as plt\n",
    "plt.style.use('fivethirtyeight') "
   ]
  },
  {
   "cell_type": "code",
   "execution_count": 33,
   "id": "126755de",
   "metadata": {},
   "outputs": [
    {
     "data": {
      "text/html": [
       "<div>\n",
       "<style scoped>\n",
       "    .dataframe tbody tr th:only-of-type {\n",
       "        vertical-align: middle;\n",
       "    }\n",
       "\n",
       "    .dataframe tbody tr th {\n",
       "        vertical-align: top;\n",
       "    }\n",
       "\n",
       "    .dataframe thead th {\n",
       "        text-align: right;\n",
       "    }\n",
       "</style>\n",
       "<table border=\"1\" class=\"dataframe\">\n",
       "  <thead>\n",
       "    <tr style=\"text-align: right;\">\n",
       "      <th></th>\n",
       "      <th>High</th>\n",
       "      <th>Low</th>\n",
       "      <th>Open</th>\n",
       "      <th>Close</th>\n",
       "      <th>Volume</th>\n",
       "      <th>Adj Close</th>\n",
       "    </tr>\n",
       "    <tr>\n",
       "      <th>Date</th>\n",
       "      <th></th>\n",
       "      <th></th>\n",
       "      <th></th>\n",
       "      <th></th>\n",
       "      <th></th>\n",
       "      <th></th>\n",
       "    </tr>\n",
       "  </thead>\n",
       "  <tbody>\n",
       "    <tr>\n",
       "      <th>2015-08-31</th>\n",
       "      <td>8043.600098</td>\n",
       "      <td>7947.950195</td>\n",
       "      <td>8009.250000</td>\n",
       "      <td>7971.299805</td>\n",
       "      <td>198200.0</td>\n",
       "      <td>7971.299805</td>\n",
       "    </tr>\n",
       "    <tr>\n",
       "      <th>2015-09-01</th>\n",
       "      <td>7929.100098</td>\n",
       "      <td>7746.500000</td>\n",
       "      <td>7907.950195</td>\n",
       "      <td>7785.850098</td>\n",
       "      <td>184900.0</td>\n",
       "      <td>7785.850098</td>\n",
       "    </tr>\n",
       "    <tr>\n",
       "      <th>2015-09-02</th>\n",
       "      <td>7862.549805</td>\n",
       "      <td>7699.250000</td>\n",
       "      <td>7856.649902</td>\n",
       "      <td>7717.000000</td>\n",
       "      <td>215300.0</td>\n",
       "      <td>7717.000000</td>\n",
       "    </tr>\n",
       "    <tr>\n",
       "      <th>2015-09-03</th>\n",
       "      <td>7845.600098</td>\n",
       "      <td>7754.049805</td>\n",
       "      <td>7774.450195</td>\n",
       "      <td>7823.000000</td>\n",
       "      <td>155800.0</td>\n",
       "      <td>7823.000000</td>\n",
       "    </tr>\n",
       "    <tr>\n",
       "      <th>2015-09-04</th>\n",
       "      <td>7804.899902</td>\n",
       "      <td>7626.850098</td>\n",
       "      <td>7803.399902</td>\n",
       "      <td>7655.049805</td>\n",
       "      <td>193600.0</td>\n",
       "      <td>7655.049805</td>\n",
       "    </tr>\n",
       "    <tr>\n",
       "      <th>...</th>\n",
       "      <td>...</td>\n",
       "      <td>...</td>\n",
       "      <td>...</td>\n",
       "      <td>...</td>\n",
       "      <td>...</td>\n",
       "      <td>...</td>\n",
       "    </tr>\n",
       "    <tr>\n",
       "      <th>2022-09-29</th>\n",
       "      <td>17026.050781</td>\n",
       "      <td>16788.599609</td>\n",
       "      <td>16993.599609</td>\n",
       "      <td>16818.099609</td>\n",
       "      <td>340000.0</td>\n",
       "      <td>16818.099609</td>\n",
       "    </tr>\n",
       "    <tr>\n",
       "      <th>2022-09-30</th>\n",
       "      <td>17187.099609</td>\n",
       "      <td>16747.699219</td>\n",
       "      <td>16798.050781</td>\n",
       "      <td>17094.349609</td>\n",
       "      <td>376100.0</td>\n",
       "      <td>17094.349609</td>\n",
       "    </tr>\n",
       "    <tr>\n",
       "      <th>2022-10-03</th>\n",
       "      <td>17114.650391</td>\n",
       "      <td>16855.550781</td>\n",
       "      <td>17102.099609</td>\n",
       "      <td>16887.349609</td>\n",
       "      <td>278400.0</td>\n",
       "      <td>16887.349609</td>\n",
       "    </tr>\n",
       "    <tr>\n",
       "      <th>2022-10-04</th>\n",
       "      <td>17287.300781</td>\n",
       "      <td>17117.300781</td>\n",
       "      <td>17147.449219</td>\n",
       "      <td>17274.300781</td>\n",
       "      <td>226000.0</td>\n",
       "      <td>17274.300781</td>\n",
       "    </tr>\n",
       "    <tr>\n",
       "      <th>2022-10-06</th>\n",
       "      <td>17428.800781</td>\n",
       "      <td>17315.650391</td>\n",
       "      <td>17379.250000</td>\n",
       "      <td>17331.800781</td>\n",
       "      <td>0.0</td>\n",
       "      <td>17331.800781</td>\n",
       "    </tr>\n",
       "  </tbody>\n",
       "</table>\n",
       "<p>1746 rows × 6 columns</p>\n",
       "</div>"
      ],
      "text/plain": [
       "                    High           Low          Open         Close    Volume  \\\n",
       "Date                                                                           \n",
       "2015-08-31   8043.600098   7947.950195   8009.250000   7971.299805  198200.0   \n",
       "2015-09-01   7929.100098   7746.500000   7907.950195   7785.850098  184900.0   \n",
       "2015-09-02   7862.549805   7699.250000   7856.649902   7717.000000  215300.0   \n",
       "2015-09-03   7845.600098   7754.049805   7774.450195   7823.000000  155800.0   \n",
       "2015-09-04   7804.899902   7626.850098   7803.399902   7655.049805  193600.0   \n",
       "...                  ...           ...           ...           ...       ...   \n",
       "2022-09-29  17026.050781  16788.599609  16993.599609  16818.099609  340000.0   \n",
       "2022-09-30  17187.099609  16747.699219  16798.050781  17094.349609  376100.0   \n",
       "2022-10-03  17114.650391  16855.550781  17102.099609  16887.349609  278400.0   \n",
       "2022-10-04  17287.300781  17117.300781  17147.449219  17274.300781  226000.0   \n",
       "2022-10-06  17428.800781  17315.650391  17379.250000  17331.800781       0.0   \n",
       "\n",
       "               Adj Close  \n",
       "Date                      \n",
       "2015-08-31   7971.299805  \n",
       "2015-09-01   7785.850098  \n",
       "2015-09-02   7717.000000  \n",
       "2015-09-03   7823.000000  \n",
       "2015-09-04   7655.049805  \n",
       "...                  ...  \n",
       "2022-09-29  16818.099609  \n",
       "2022-09-30  17094.349609  \n",
       "2022-10-03  16887.349609  \n",
       "2022-10-04  17274.300781  \n",
       "2022-10-06  17331.800781  \n",
       "\n",
       "[1746 rows x 6 columns]"
      ]
     },
     "execution_count": 33,
     "metadata": {},
     "output_type": "execute_result"
    }
   ],
   "source": [
    "dataset5 = web.DataReader('^NSEI', data_source='yahoo',start='2015-08-30',end='2022-10-06')\n",
    "dataset5"
   ]
  },
  {
   "cell_type": "code",
   "execution_count": 34,
   "id": "760fe797",
   "metadata": {},
   "outputs": [
    {
     "data": {
      "text/plain": [
       "1746"
      ]
     },
     "execution_count": 34,
     "metadata": {},
     "output_type": "execute_result"
    }
   ],
   "source": [
    "len(dataset5)"
   ]
  },
  {
   "cell_type": "code",
   "execution_count": 35,
   "id": "b73511ce",
   "metadata": {},
   "outputs": [
    {
     "data": {
      "text/html": [
       "<div>\n",
       "<style scoped>\n",
       "    .dataframe tbody tr th:only-of-type {\n",
       "        vertical-align: middle;\n",
       "    }\n",
       "\n",
       "    .dataframe tbody tr th {\n",
       "        vertical-align: top;\n",
       "    }\n",
       "\n",
       "    .dataframe thead th {\n",
       "        text-align: right;\n",
       "    }\n",
       "</style>\n",
       "<table border=\"1\" class=\"dataframe\">\n",
       "  <thead>\n",
       "    <tr style=\"text-align: right;\">\n",
       "      <th></th>\n",
       "      <th>High</th>\n",
       "      <th>Low</th>\n",
       "      <th>Open</th>\n",
       "      <th>Close</th>\n",
       "      <th>Volume</th>\n",
       "      <th>Adj Close</th>\n",
       "    </tr>\n",
       "    <tr>\n",
       "      <th>Date</th>\n",
       "      <th></th>\n",
       "      <th></th>\n",
       "      <th></th>\n",
       "      <th></th>\n",
       "      <th></th>\n",
       "      <th></th>\n",
       "    </tr>\n",
       "  </thead>\n",
       "  <tbody>\n",
       "    <tr>\n",
       "      <th>2022-09-29</th>\n",
       "      <td>17026.050781</td>\n",
       "      <td>16788.599609</td>\n",
       "      <td>16993.599609</td>\n",
       "      <td>16818.099609</td>\n",
       "      <td>340000.0</td>\n",
       "      <td>16818.099609</td>\n",
       "    </tr>\n",
       "    <tr>\n",
       "      <th>2022-09-30</th>\n",
       "      <td>17187.099609</td>\n",
       "      <td>16747.699219</td>\n",
       "      <td>16798.050781</td>\n",
       "      <td>17094.349609</td>\n",
       "      <td>376100.0</td>\n",
       "      <td>17094.349609</td>\n",
       "    </tr>\n",
       "    <tr>\n",
       "      <th>2022-10-03</th>\n",
       "      <td>17114.650391</td>\n",
       "      <td>16855.550781</td>\n",
       "      <td>17102.099609</td>\n",
       "      <td>16887.349609</td>\n",
       "      <td>278400.0</td>\n",
       "      <td>16887.349609</td>\n",
       "    </tr>\n",
       "    <tr>\n",
       "      <th>2022-10-04</th>\n",
       "      <td>17287.300781</td>\n",
       "      <td>17117.300781</td>\n",
       "      <td>17147.449219</td>\n",
       "      <td>17274.300781</td>\n",
       "      <td>226000.0</td>\n",
       "      <td>17274.300781</td>\n",
       "    </tr>\n",
       "    <tr>\n",
       "      <th>2022-10-06</th>\n",
       "      <td>17428.800781</td>\n",
       "      <td>17315.650391</td>\n",
       "      <td>17379.250000</td>\n",
       "      <td>17331.800781</td>\n",
       "      <td>0.0</td>\n",
       "      <td>17331.800781</td>\n",
       "    </tr>\n",
       "  </tbody>\n",
       "</table>\n",
       "</div>"
      ],
      "text/plain": [
       "                    High           Low          Open         Close    Volume  \\\n",
       "Date                                                                           \n",
       "2022-09-29  17026.050781  16788.599609  16993.599609  16818.099609  340000.0   \n",
       "2022-09-30  17187.099609  16747.699219  16798.050781  17094.349609  376100.0   \n",
       "2022-10-03  17114.650391  16855.550781  17102.099609  16887.349609  278400.0   \n",
       "2022-10-04  17287.300781  17117.300781  17147.449219  17274.300781  226000.0   \n",
       "2022-10-06  17428.800781  17315.650391  17379.250000  17331.800781       0.0   \n",
       "\n",
       "               Adj Close  \n",
       "Date                      \n",
       "2022-09-29  16818.099609  \n",
       "2022-09-30  17094.349609  \n",
       "2022-10-03  16887.349609  \n",
       "2022-10-04  17274.300781  \n",
       "2022-10-06  17331.800781  "
      ]
     },
     "execution_count": 35,
     "metadata": {},
     "output_type": "execute_result"
    }
   ],
   "source": [
    "dataset5.tail()"
   ]
  },
  {
   "cell_type": "code",
   "execution_count": 36,
   "id": "72105e0a",
   "metadata": {},
   "outputs": [],
   "source": [
    "opn=dataset5[['Open']]"
   ]
  },
  {
   "cell_type": "code",
   "execution_count": 37,
   "id": "1fb1ed61",
   "metadata": {},
   "outputs": [
    {
     "data": {
      "text/plain": [
       "<AxesSubplot:xlabel='Date'>"
      ]
     },
     "execution_count": 37,
     "metadata": {},
     "output_type": "execute_result"
    },
    {
     "data": {
      "image/png": "[encoded data removed]",
      "text/plain": [
       "<Figure size 432x288 with 1 Axes>"
      ]
     },
     "metadata": {},
     "output_type": "display_data"
    }
   ],
   "source": [
    "opn.plot()"
   ]
  },
  {
   "cell_type": "code",
   "execution_count": 38,
   "id": "ea7b3944",
   "metadata": {},
   "outputs": [],
   "source": [
    "ds=opn.values"
   ]
  },
  {
   "cell_type": "code",
   "execution_count": 39,
   "id": "f0a59588",
   "metadata": {},
   "outputs": [
    {
     "data": {
      "text/plain": [
       "array([[ 8009.25      ],\n",
       "       [ 7907.95019531],\n",
       "       [ 7856.64990234],\n",
       "       ...,\n",
       "       [17102.09960938],\n",
       "       [17147.44921875],\n",
       "       [17379.25      ]])"
      ]
     },
     "execution_count": 39,
     "metadata": {},
     "output_type": "execute_result"
    }
   ],
   "source": [
    "ds"
   ]
  },
  {
   "cell_type": "code",
   "execution_count": 40,
   "id": "6bcbc017",
   "metadata": {},
   "outputs": [
    {
     "data": {
      "text/plain": [
       "[<matplotlib.lines.Line2D at 0x1b2ea2a8700>]"
      ]
     },
     "execution_count": 40,
     "metadata": {},
     "output_type": "execute_result"
    },
    {
     "data": {
      "image/png": "[encoded data removed]",
      "text/plain": [
       "<Figure size 432x288 with 1 Axes>"
      ]
     },
     "metadata": {},
     "output_type": "display_data"
    }
   ],
   "source": [
    "plt.plot(ds)"
   ]
  },
  {
   "cell_type": "code",
   "execution_count": 41,
   "id": "909119f1",
   "metadata": {},
   "outputs": [],
   "source": [
    "normalizer=MinMaxScaler(feature_range=(0,1))\n",
    "ds_scaled=normalizer.fit_transform(np.array(ds).reshape(-1,1))"
   ]
  },
  {
   "cell_type": "code",
   "execution_count": 42,
   "id": "d9922a8d",
   "metadata": {},
   "outputs": [
    {
     "data": {
      "text/plain": [
       "(1746, 1746)"
      ]
     },
     "execution_count": 42,
     "metadata": {},
     "output_type": "execute_result"
    }
   ],
   "source": [
    "len(ds_scaled),len(ds)"
   ]
  },
  {
   "cell_type": "code",
   "execution_count": 43,
   "id": "e2084f1b",
   "metadata": {},
   "outputs": [],
   "source": [
    "train_size=int(len(ds_scaled)*0.70)\n",
    "test_size=len(ds_scaled)-train_size"
   ]
  },
  {
   "cell_type": "code",
   "execution_count": 44,
   "id": "ad81941a",
   "metadata": {},
   "outputs": [
    {
     "data": {
      "text/plain": [
       "(1222, 524)"
      ]
     },
     "execution_count": 44,
     "metadata": {},
     "output_type": "execute_result"
    }
   ],
   "source": [
    "train_size,test_size"
   ]
  },
  {
   "cell_type": "code",
   "execution_count": 45,
   "id": "4e6bc041",
   "metadata": {},
   "outputs": [],
   "source": [
    "ds_train,ds_test=ds_scaled[0:train_size,:],ds_scaled[train_size:len(ds_scaled),:1]"
   ]
  },
  {
   "cell_type": "code",
   "execution_count": 46,
   "id": "9ae05857",
   "metadata": {},
   "outputs": [
    {
     "data": {
      "text/plain": [
       "(1222, 524)"
      ]
     },
     "execution_count": 46,
     "metadata": {},
     "output_type": "execute_result"
    }
   ],
   "source": [
    "len(ds_train),len(ds_test)"
   ]
  },
  {
   "cell_type": "code",
   "execution_count": 47,
   "id": "d3c75d03",
   "metadata": {},
   "outputs": [],
   "source": [
    "#creating dataset in time series for LSTM model \n",
    "#X[100,120,140,160,180] : Y[200]\n",
    "def create_ds(dataset,step):\n",
    "    Xtrain, Ytrain = [], []\n",
    "    for i in range(len(dataset)-step-1):\n",
    "        a = dataset[i:(i+step), 0]\n",
    "        Xtrain.append(a)\n",
    "        Ytrain.append(dataset[i + step, 0])\n",
    "    return np.array(Xtrain), np.array(Ytrain)"
   ]
  },
  {
   "cell_type": "code",
   "execution_count": 48,
   "id": "31c8edff",
   "metadata": {},
   "outputs": [],
   "source": [
    "#Taking 100 days price as one record for training\n",
    "time_stamp = 100\n",
    "X_train, y_train = create_ds(ds_train,time_stamp)\n",
    "X_test, y_test = create_ds(ds_test,time_stamp)"
   ]
  },
  {
   "cell_type": "code",
   "execution_count": 49,
   "id": "ddcd80bc",
   "metadata": {},
   "outputs": [
    {
     "data": {
      "text/plain": [
       "((1121, 100), (1121,))"
      ]
     },
     "execution_count": 49,
     "metadata": {},
     "output_type": "execute_result"
    }
   ],
   "source": [
    "X_train.shape,y_train.shape"
   ]
  },
  {
   "cell_type": "code",
   "execution_count": 50,
   "id": "4cdf3516",
   "metadata": {},
   "outputs": [
    {
     "data": {
      "text/plain": [
       "((423, 100), (423,))"
      ]
     },
     "execution_count": 50,
     "metadata": {},
     "output_type": "execute_result"
    }
   ],
   "source": [
    "X_test.shape, y_test.shape"
   ]
  },
  {
   "cell_type": "code",
   "execution_count": 51,
   "id": "b2843330",
   "metadata": {},
   "outputs": [],
   "source": [
    "#Reshaping data to fit into LSTM model\n",
    "X_train = X_train.reshape(X_train.shape[0],X_train.shape[1] , 1)\n",
    "X_test = X_test.reshape(X_test.shape[0],X_test.shape[1] , 1)"
   ]
  },
  {
   "cell_type": "code",
   "execution_count": 52,
   "id": "562b38f0",
   "metadata": {},
   "outputs": [
    {
     "name": "stdout",
     "output_type": "stream",
     "text": [
      "Model: \"sequential_1\"\n",
      "_________________________________________________________________\n",
      " Layer (type)                Output Shape              Param #   \n",
      "=================================================================\n",
      " lstm_3 (LSTM)               (None, 100, 50)           10400     \n",
      "                                                                 \n",
      " lstm_4 (LSTM)               (None, 100, 50)           20200     \n",
      "                                                                 \n",
      " lstm_5 (LSTM)               (None, 50)                20200     \n",
      "                                                                 \n",
      " dense_1 (Dense)             (None, 1)                 51        \n",
      "                                                                 \n",
      "=================================================================\n",
      "Total params: 50,851\n",
      "Trainable params: 50,851\n",
      "Non-trainable params: 0\n",
      "_________________________________________________________________\n"
     ]
    }
   ],
   "source": [
    "#Creating LSTM model using keras\n",
    "model = Sequential()\n",
    "model.add(LSTM(units=50,return_sequences=True,input_shape=(X_train.shape[1],1)))\n",
    "model.add(LSTM(units=50,return_sequences=True))\n",
    "model.add(LSTM(units=50))\n",
    "model.add(Dense(units=1,activation='linear'))\n",
    "model.summary()"
   ]
  },
  {
   "cell_type": "code",
   "execution_count": 53,
   "id": "29afd567",
   "metadata": {},
   "outputs": [
    {
     "name": "stdout",
     "output_type": "stream",
     "text": [
      "Epoch 1/95\n",
      "13/13 [==============================] - 11s 320ms/step - loss: 0.0268 - val_loss: 0.1076\n",
      "Epoch 2/95\n",
      "13/13 [==============================] - 3s 214ms/step - loss: 0.0043 - val_loss: 0.0234\n",
      "Epoch 3/95\n",
      "13/13 [==============================] - 3s 210ms/step - loss: 0.0022 - val_loss: 0.0244\n",
      "Epoch 4/95\n",
      "13/13 [==============================] - 3s 220ms/step - loss: 0.0013 - val_loss: 0.0097\n",
      "Epoch 5/95\n",
      "13/13 [==============================] - 3s 216ms/step - loss: 0.0011 - val_loss: 0.0042\n",
      "Epoch 6/95\n",
      "13/13 [==============================] - 3s 206ms/step - loss: 0.0010 - val_loss: 0.0063\n",
      "Epoch 7/95\n",
      "13/13 [==============================] - 3s 212ms/step - loss: 0.0010 - val_loss: 0.0087\n",
      "Epoch 8/95\n",
      "13/13 [==============================] - 3s 208ms/step - loss: 9.5268e-04 - val_loss: 0.0066\n",
      "Epoch 9/95\n",
      "13/13 [==============================] - 3s 215ms/step - loss: 9.3162e-04 - val_loss: 0.0061\n",
      "Epoch 10/95\n",
      "13/13 [==============================] - 3s 220ms/step - loss: 8.8509e-04 - val_loss: 0.0070\n",
      "Epoch 11/95\n",
      "13/13 [==============================] - 3s 208ms/step - loss: 8.5248e-04 - val_loss: 0.0053\n",
      "Epoch 12/95\n",
      "13/13 [==============================] - 3s 206ms/step - loss: 7.9216e-04 - val_loss: 0.0083\n",
      "Epoch 13/95\n",
      "13/13 [==============================] - 3s 213ms/step - loss: 7.6462e-04 - val_loss: 0.0061\n",
      "Epoch 14/95\n",
      "13/13 [==============================] - 3s 203ms/step - loss: 7.2120e-04 - val_loss: 0.0119\n",
      "Epoch 15/95\n",
      "13/13 [==============================] - 3s 217ms/step - loss: 7.2052e-04 - val_loss: 0.0099\n",
      "Epoch 16/95\n",
      "13/13 [==============================] - 3s 226ms/step - loss: 6.6758e-04 - val_loss: 0.0091\n",
      "Epoch 17/95\n",
      "13/13 [==============================] - 3s 205ms/step - loss: 6.2917e-04 - val_loss: 0.0180\n",
      "Epoch 18/95\n",
      "13/13 [==============================] - 3s 210ms/step - loss: 5.7865e-04 - val_loss: 0.0163\n",
      "Epoch 19/95\n",
      "13/13 [==============================] - 3s 212ms/step - loss: 5.7485e-04 - val_loss: 0.0195\n",
      "Epoch 20/95\n",
      "13/13 [==============================] - 3s 208ms/step - loss: 5.5419e-04 - val_loss: 0.0242\n",
      "Epoch 21/95\n",
      "13/13 [==============================] - 3s 220ms/step - loss: 5.5223e-04 - val_loss: 0.0242\n",
      "Epoch 22/95\n",
      "13/13 [==============================] - 3s 219ms/step - loss: 5.2183e-04 - val_loss: 0.0231\n",
      "Epoch 23/95\n",
      "13/13 [==============================] - 3s 231ms/step - loss: 4.9797e-04 - val_loss: 0.0215\n",
      "Epoch 24/95\n",
      "13/13 [==============================] - 3s 219ms/step - loss: 4.8403e-04 - val_loss: 0.0147\n",
      "Epoch 25/95\n",
      "13/13 [==============================] - 3s 206ms/step - loss: 5.0748e-04 - val_loss: 0.0217\n",
      "Epoch 26/95\n",
      "13/13 [==============================] - 3s 218ms/step - loss: 4.6198e-04 - val_loss: 0.0169\n",
      "Epoch 27/95\n",
      "13/13 [==============================] - 3s 221ms/step - loss: 4.5676e-04 - val_loss: 0.0227\n",
      "Epoch 28/95\n",
      "13/13 [==============================] - 3s 216ms/step - loss: 4.5198e-04 - val_loss: 0.0185\n",
      "Epoch 29/95\n",
      "13/13 [==============================] - 3s 215ms/step - loss: 4.5211e-04 - val_loss: 0.0154\n",
      "Epoch 30/95\n",
      "13/13 [==============================] - 3s 209ms/step - loss: 4.4425e-04 - val_loss: 0.0101\n",
      "Epoch 31/95\n",
      "13/13 [==============================] - 3s 209ms/step - loss: 4.1518e-04 - val_loss: 0.0074\n",
      "Epoch 32/95\n",
      "13/13 [==============================] - 3s 216ms/step - loss: 4.3602e-04 - val_loss: 0.0065-\n",
      "Epoch 33/95\n",
      "13/13 [==============================] - 3s 217ms/step - loss: 3.8843e-04 - val_loss: 0.0153\n",
      "Epoch 34/95\n",
      "13/13 [==============================] - 3s 221ms/step - loss: 4.1133e-04 - val_loss: 0.0062\n",
      "Epoch 35/95\n",
      "13/13 [==============================] - 3s 208ms/step - loss: 3.7620e-04 - val_loss: 0.0054\n",
      "Epoch 36/95\n",
      "13/13 [==============================] - 3s 208ms/step - loss: 3.9107e-04 - val_loss: 0.0044\n",
      "Epoch 37/95\n",
      "13/13 [==============================] - 3s 213ms/step - loss: 3.7679e-04 - val_loss: 0.0110\n",
      "Epoch 38/95\n",
      "13/13 [==============================] - 3s 210ms/step - loss: 3.7882e-04 - val_loss: 0.0018\n",
      "Epoch 39/95\n",
      "13/13 [==============================] - 3s 220ms/step - loss: 3.6515e-04 - val_loss: 0.0051\n",
      "Epoch 40/95\n",
      "13/13 [==============================] - 3s 219ms/step - loss: 3.4123e-04 - val_loss: 0.0011\n",
      "Epoch 41/95\n",
      "13/13 [==============================] - 3s 208ms/step - loss: 3.7705e-04 - val_loss: 0.0029\n",
      "Epoch 42/95\n",
      "13/13 [==============================] - 3s 212ms/step - loss: 3.7068e-04 - val_loss: 0.0026\n",
      "Epoch 43/95\n",
      "13/13 [==============================] - 3s 213ms/step - loss: 3.9945e-04 - val_loss: 0.0016\n",
      "Epoch 44/95\n",
      "13/13 [==============================] - 3s 218ms/step - loss: 3.9756e-04 - val_loss: 0.0023\n",
      "Epoch 45/95\n",
      "13/13 [==============================] - 3s 225ms/step - loss: 3.6534e-04 - val_loss: 0.0034\n",
      "Epoch 46/95\n",
      "13/13 [==============================] - 3s 207ms/step - loss: 3.4486e-04 - val_loss: 0.0070\n",
      "Epoch 47/95\n",
      "13/13 [==============================] - 3s 209ms/step - loss: 3.7064e-04 - val_loss: 0.0030\n",
      "Epoch 48/95\n",
      "13/13 [==============================] - 3s 214ms/step - loss: 3.4116e-04 - val_loss: 0.0062\n",
      "Epoch 49/95\n",
      "13/13 [==============================] - 3s 205ms/step - loss: 3.3752e-04 - val_loss: 0.0063\n",
      "Epoch 50/95\n",
      "13/13 [==============================] - 3s 220ms/step - loss: 3.2777e-04 - val_loss: 0.0059\n",
      "Epoch 51/95\n",
      "13/13 [==============================] - 3s 223ms/step - loss: 3.2332e-04 - val_loss: 0.0046\n",
      "Epoch 52/95\n",
      "13/13 [==============================] - 3s 206ms/step - loss: 3.3073e-04 - val_loss: 0.0081\n",
      "Epoch 53/95\n",
      "13/13 [==============================] - 3s 213ms/step - loss: 3.7335e-04 - val_loss: 0.0101\n",
      "Epoch 54/95\n",
      "13/13 [==============================] - 3s 211ms/step - loss: 3.2771e-04 - val_loss: 0.0037\n",
      "Epoch 55/95\n",
      "13/13 [==============================] - 3s 206ms/step - loss: 3.1839e-04 - val_loss: 0.0133\n",
      "Epoch 56/95\n",
      "13/13 [==============================] - 3s 223ms/step - loss: 3.4733e-04 - val_loss: 0.0061\n",
      "Epoch 57/95\n",
      "13/13 [==============================] - 3s 216ms/step - loss: 3.0481e-04 - val_loss: 0.0034\n",
      "Epoch 58/95\n",
      "13/13 [==============================] - 3s 208ms/step - loss: 2.9658e-04 - val_loss: 0.0017\n",
      "Epoch 59/95\n",
      "13/13 [==============================] - 3s 212ms/step - loss: 2.8645e-04 - val_loss: 0.0066\n",
      "Epoch 60/95\n",
      "13/13 [==============================] - 3s 206ms/step - loss: 3.1186e-04 - val_loss: 0.0063\n",
      "Epoch 61/95\n",
      "13/13 [==============================] - 3s 214ms/step - loss: 2.7402e-04 - val_loss: 0.0013\n",
      "Epoch 62/95\n",
      "13/13 [==============================] - 3s 219ms/step - loss: 3.2350e-04 - val_loss: 0.0011\n",
      "Epoch 63/95\n",
      "13/13 [==============================] - 3s 210ms/step - loss: 3.0935e-04 - val_loss: 0.0059\n",
      "Epoch 64/95\n",
      "13/13 [==============================] - 3s 216ms/step - loss: 2.9196e-04 - val_loss: 0.0050\n",
      "Epoch 65/95\n",
      "13/13 [==============================] - 3s 211ms/step - loss: 2.8861e-04 - val_loss: 0.0055\n",
      "Epoch 66/95\n",
      "13/13 [==============================] - 3s 205ms/step - loss: 3.1690e-04 - val_loss: 0.0024\n",
      "Epoch 67/95\n",
      "13/13 [==============================] - 3s 242ms/step - loss: 3.0492e-04 - val_loss: 0.0033\n",
      "Epoch 68/95\n",
      "13/13 [==============================] - 3s 222ms/step - loss: 2.8790e-04 - val_loss: 0.0028\n",
      "Epoch 69/95\n",
      "13/13 [==============================] - 3s 221ms/step - loss: 3.2663e-04 - val_loss: 0.0012\n",
      "Epoch 70/95\n",
      "13/13 [==============================] - 3s 207ms/step - loss: 3.2512e-04 - val_loss: 0.0017\n",
      "Epoch 71/95\n",
      "13/13 [==============================] - 3s 208ms/step - loss: 3.5125e-04 - val_loss: 0.0047\n",
      "Epoch 72/95\n",
      "13/13 [==============================] - 3s 213ms/step - loss: 2.7319e-04 - val_loss: 0.0042\n",
      "Epoch 73/95\n",
      "13/13 [==============================] - 3s 214ms/step - loss: 2.7114e-04 - val_loss: 0.0090\n",
      "Epoch 74/95\n",
      "13/13 [==============================] - 3s 223ms/step - loss: 2.9257e-04 - val_loss: 0.0041\n",
      "Epoch 75/95\n",
      "13/13 [==============================] - 3s 212ms/step - loss: 2.9401e-04 - val_loss: 0.0026\n",
      "Epoch 76/95\n",
      "13/13 [==============================] - 3s 207ms/step - loss: 2.7029e-04 - val_loss: 0.0092\n",
      "Epoch 77/95\n",
      "13/13 [==============================] - 3s 210ms/step - loss: 2.7891e-04 - val_loss: 0.0051\n",
      "Epoch 78/95\n",
      "13/13 [==============================] - 3s 213ms/step - loss: 2.6059e-04 - val_loss: 0.0030\n",
      "Epoch 79/95\n"
     ]
    },
    {
     "name": "stdout",
     "output_type": "stream",
     "text": [
      "13/13 [==============================] - 3s 216ms/step - loss: 2.5112e-04 - val_loss: 0.0056\n",
      "Epoch 80/95\n",
      "13/13 [==============================] - 3s 220ms/step - loss: 2.4958e-04 - val_loss: 0.0045\n",
      "Epoch 81/95\n",
      "13/13 [==============================] - 3s 206ms/step - loss: 2.5756e-04 - val_loss: 0.0055\n",
      "Epoch 82/95\n",
      "13/13 [==============================] - 3s 206ms/step - loss: 2.5725e-04 - val_loss: 0.0047\n",
      "Epoch 83/95\n",
      "13/13 [==============================] - 3s 213ms/step - loss: 2.5440e-04 - val_loss: 0.0024\n",
      "Epoch 84/95\n",
      "13/13 [==============================] - 3s 209ms/step - loss: 2.8949e-04 - val_loss: 0.0020\n",
      "Epoch 85/95\n",
      "13/13 [==============================] - 3s 225ms/step - loss: 2.6193e-04 - val_loss: 0.0050\n",
      "Epoch 86/95\n",
      "13/13 [==============================] - 3s 218ms/step - loss: 2.5927e-04 - val_loss: 0.0032\n",
      "Epoch 87/95\n",
      "13/13 [==============================] - 3s 203ms/step - loss: 2.8167e-04 - val_loss: 0.0057\n",
      "Epoch 88/95\n",
      "13/13 [==============================] - 3s 216ms/step - loss: 2.7243e-04 - val_loss: 0.0030\n",
      "Epoch 89/95\n",
      "13/13 [==============================] - 3s 211ms/step - loss: 2.7784e-04 - val_loss: 0.0049\n",
      "Epoch 90/95\n",
      "13/13 [==============================] - 3s 213ms/step - loss: 2.6731e-04 - val_loss: 0.0022\n",
      "Epoch 91/95\n",
      "13/13 [==============================] - 3s 233ms/step - loss: 2.7163e-04 - val_loss: 0.0029\n",
      "Epoch 92/95\n",
      "13/13 [==============================] - 3s 231ms/step - loss: 2.5627e-04 - val_loss: 9.8164e-04\n",
      "Epoch 93/95\n",
      "13/13 [==============================] - 3s 223ms/step - loss: 2.6051e-04 - val_loss: 0.0011\n",
      "Epoch 94/95\n",
      "13/13 [==============================] - 3s 222ms/step - loss: 2.5950e-04 - val_loss: 0.0014\n",
      "Epoch 95/95\n",
      "13/13 [==============================] - 3s 226ms/step - loss: 2.4799e-04 - val_loss: 0.0017\n"
     ]
    },
    {
     "data": {
      "text/plain": [
       "<keras.callbacks.History at 0x1b2ebb08820>"
      ]
     },
     "execution_count": 53,
     "metadata": {},
     "output_type": "execute_result"
    }
   ],
   "source": [
    "#Training model with adam optimizer and mean squared error loss function\n",
    "model.compile(loss='mean_squared_error',optimizer='adam')\n",
    "model.fit(X_train,y_train,validation_data=(X_test,y_test),epochs=95,batch_size=90)"
   ]
  },
  {
   "cell_type": "code",
   "execution_count": 54,
   "id": "73861ebc",
   "metadata": {},
   "outputs": [
    {
     "data": {
      "text/plain": [
       "[<matplotlib.lines.Line2D at 0x1b2f3fcf760>]"
      ]
     },
     "execution_count": 54,
     "metadata": {},
     "output_type": "execute_result"
    },
    {
     "data": {
      "image/png": "[encoded data removed]",
      "text/plain": [
       "<Figure size 432x288 with 1 Axes>"
      ]
     },
     "metadata": {},
     "output_type": "display_data"
    }
   ],
   "source": [
    "#PLotting loss, it shows that loss has decreased significantly and model trained well\n",
    "loss = model.history.history['loss']\n",
    "plt.plot(loss)"
   ]
  },
  {
   "cell_type": "code",
   "execution_count": 55,
   "id": "1f9d28b5",
   "metadata": {},
   "outputs": [],
   "source": [
    "#Predicitng on train and test data\n",
    "train_predict = model.predict(X_train)\n",
    "test_predict = model.predict(X_test)"
   ]
  },
  {
   "cell_type": "code",
   "execution_count": 56,
   "id": "382717eb",
   "metadata": {},
   "outputs": [],
   "source": [
    "#Inverse transform to get actual value\n",
    "train_predict = normalizer.inverse_transform(train_predict)\n",
    "test_predict = normalizer.inverse_transform(test_predict)"
   ]
  },
  {
   "cell_type": "code",
   "execution_count": 57,
   "id": "fe8e6042",
   "metadata": {},
   "outputs": [
    {
     "data": {
      "text/plain": [
       "[<matplotlib.lines.Line2D at 0x1b2f5708c40>]"
      ]
     },
     "execution_count": 57,
     "metadata": {},
     "output_type": "execute_result"
    },
    {
     "data": {
      "image/png": "[encoded data removed]",
      "text/plain": [
       "<Figure size 432x288 with 1 Axes>"
      ]
     },
     "metadata": {},
     "output_type": "display_data"
    }
   ],
   "source": [
    "#Comparing using visuals\n",
    "plt.plot(normalizer.inverse_transform(ds_scaled),label= 'Scaled Value')\n",
    "plt.plot((train_predict),label= 'Training value')\n",
    "plt.plot((test_predict),label= 'Testing value')"
   ]
  },
  {
   "cell_type": "code",
   "execution_count": 58,
   "id": "9ac066c6",
   "metadata": {},
   "outputs": [
    {
     "data": {
      "text/plain": [
       "numpy.ndarray"
      ]
     },
     "execution_count": 58,
     "metadata": {},
     "output_type": "execute_result"
    }
   ],
   "source": [
    "type(train_predict)"
   ]
  },
  {
   "cell_type": "code",
   "execution_count": 59,
   "id": "49ffd9f8",
   "metadata": {},
   "outputs": [],
   "source": [
    "test = np.vstack((train_predict,test_predict))"
   ]
  },
  {
   "cell_type": "code",
   "execution_count": 60,
   "id": "646c7764",
   "metadata": {},
   "outputs": [
    {
     "data": {
      "text/plain": [
       "[<matplotlib.lines.Line2D at 0x1b2f57b5790>]"
      ]
     },
     "execution_count": 60,
     "metadata": {},
     "output_type": "execute_result"
    },
    {
     "data": {
      "image/png": "[encoded data removed]",
      "text/plain": [
       "<Figure size 432x288 with 1 Axes>"
      ]
     },
     "metadata": {},
     "output_type": "display_data"
    }
   ],
   "source": [
    "#Combining the predited data to create uniform data visualization\n",
    "plt.plot(normalizer.inverse_transform(ds_scaled))\n",
    "plt.plot(test)"
   ]
  },
  {
   "cell_type": "code",
   "execution_count": 61,
   "id": "1e72bd52",
   "metadata": {},
   "outputs": [
    {
     "data": {
      "text/plain": [
       "524"
      ]
     },
     "execution_count": 61,
     "metadata": {},
     "output_type": "execute_result"
    }
   ],
   "source": [
    "len(ds_test)"
   ]
  },
  {
   "cell_type": "code",
   "execution_count": 62,
   "id": "d35e7636",
   "metadata": {},
   "outputs": [],
   "source": [
    "#Getting the last 100 days records\n",
    "fut_inp = ds_test[424:]"
   ]
  },
  {
   "cell_type": "code",
   "execution_count": 63,
   "id": "ade7467e",
   "metadata": {},
   "outputs": [],
   "source": [
    "fut_inp = fut_inp.reshape(1,-1)"
   ]
  },
  {
   "cell_type": "code",
   "execution_count": 64,
   "id": "d02f4049",
   "metadata": {},
   "outputs": [],
   "source": [
    "tmp_inp = list(fut_inp)"
   ]
  },
  {
   "cell_type": "code",
   "execution_count": 65,
   "id": "78b986a2",
   "metadata": {},
   "outputs": [
    {
     "data": {
      "text/plain": [
       "(1, 100)"
      ]
     },
     "execution_count": 65,
     "metadata": {},
     "output_type": "execute_result"
    }
   ],
   "source": [
    "fut_inp.shape"
   ]
  },
  {
   "cell_type": "code",
   "execution_count": 66,
   "id": "9e02af51",
   "metadata": {},
   "outputs": [],
   "source": [
    "#Creating list of the last 100 data\n",
    "tmp_inp = tmp_inp[0].tolist()"
   ]
  },
  {
   "cell_type": "code",
   "execution_count": 67,
   "id": "fa4d7b97",
   "metadata": {},
   "outputs": [
    {
     "name": "stdout",
     "output_type": "stream",
     "text": [
      "[[0.9093806743621826], [0.9150452613830566], [0.9229136109352112], [0.93177729845047], [0.9409088492393494], [0.9499304890632629], [0.9586828351020813], [0.9671263098716736], [0.9752784967422485], [0.983180046081543], [0.9908755421638489], [0.998406171798706], [1.0058071613311768], [1.013106346130371], [1.020324945449829], [1.0274780988693237], [1.0345757007598877], [1.0416233539581299], [1.048622727394104], [1.0555733442306519], [1.0624724626541138], [1.0693161487579346], [1.0760995149612427], [1.0828174352645874], [1.0894650220870972], [1.0960373878479004], [1.1025301218032837], [1.108939290046692], [1.1152606010437012], [1.1214921474456787]]\n"
     ]
    }
   ],
   "source": [
    "#Predicting next 30 days price suing the current data\n",
    "#It will predict in sliding window manner (algorithm) with stride 1\n",
    "lst_output=[]\n",
    "n_steps=100\n",
    "i=0\n",
    "while(i<30):\n",
    "    \n",
    "    if(len(tmp_inp)>100):\n",
    "        fut_inp = np.array(tmp_inp[1:])\n",
    "        fut_inp=fut_inp.reshape(1,-1)\n",
    "        fut_inp = fut_inp.reshape((1, n_steps, 1))\n",
    "        yhat = model.predict(fut_inp, verbose=0)\n",
    "        tmp_inp.extend(yhat[0].tolist())\n",
    "        tmp_inp = tmp_inp[1:]\n",
    "        lst_output.extend(yhat.tolist())\n",
    "        i=i+1\n",
    "    else:\n",
    "        fut_inp = fut_inp.reshape((1, n_steps,1))\n",
    "        yhat = model.predict(fut_inp, verbose=0)\n",
    "        tmp_inp.extend(yhat[0].tolist())\n",
    "        lst_output.extend(yhat.tolist())\n",
    "        i=i+1\n",
    "    \n",
    "\n",
    "print(lst_output)"
   ]
  },
  {
   "cell_type": "code",
   "execution_count": 68,
   "id": "9af859ab",
   "metadata": {},
   "outputs": [
    {
     "data": {
      "text/plain": [
       "1746"
      ]
     },
     "execution_count": 68,
     "metadata": {},
     "output_type": "execute_result"
    }
   ],
   "source": [
    "len(ds_scaled)"
   ]
  },
  {
   "cell_type": "code",
   "execution_count": 69,
   "id": "2e9eb6e6",
   "metadata": {},
   "outputs": [],
   "source": [
    "#Creating a dummy plane to plot graph one after another\n",
    "plot_new=np.arange(1,101)\n",
    "plot_pred=np.arange(101,131)"
   ]
  },
  {
   "cell_type": "code",
   "execution_count": 70,
   "id": "651a0976",
   "metadata": {},
   "outputs": [
    {
     "data": {
      "text/plain": [
       "[<matplotlib.lines.Line2D at 0x1b2f6a8a880>]"
      ]
     },
     "execution_count": 70,
     "metadata": {},
     "output_type": "execute_result"
    },
    {
     "data": {
      "image/png": "[encoded data removed]",
      "text/plain": [
       "<Figure size 432x288 with 1 Axes>"
      ]
     },
     "metadata": {},
     "output_type": "display_data"
    }
   ],
   "source": [
    "plt.plot(plot_new, normalizer.inverse_transform(ds_scaled[1646:]))\n",
    "plt.plot(plot_pred, normalizer.inverse_transform(lst_output))"
   ]
  },
  {
   "cell_type": "code",
   "execution_count": 71,
   "id": "63dd60f5",
   "metadata": {},
   "outputs": [],
   "source": [
    "ds_new = ds_scaled.tolist()"
   ]
  },
  {
   "cell_type": "code",
   "execution_count": 72,
   "id": "260c84af",
   "metadata": {},
   "outputs": [
    {
     "data": {
      "text/plain": [
       "1746"
      ]
     },
     "execution_count": 72,
     "metadata": {},
     "output_type": "execute_result"
    }
   ],
   "source": [
    "len(ds_new)"
   ]
  },
  {
   "cell_type": "code",
   "execution_count": 73,
   "id": "9ca474b9",
   "metadata": {},
   "outputs": [
    {
     "data": {
      "text/plain": [
       "[<matplotlib.lines.Line2D at 0x1b2f69082b0>]"
      ]
     },
     "execution_count": 73,
     "metadata": {},
     "output_type": "execute_result"
    },
    {
     "data": {
      "image/png": "[encoded data removed]",
      "text/plain": [
       "<Figure size 432x288 with 1 Axes>"
      ]
     },
     "metadata": {},
     "output_type": "display_data"
    }
   ],
   "source": [
    "#Entends helps us to fill the missing value with approx value\n",
    "ds_new.extend(lst_output)\n",
    "plt.plot(ds_new[397:])"
   ]
  },
  {
   "cell_type": "code",
   "execution_count": 74,
   "id": "e39cfa2b",
   "metadata": {},
   "outputs": [],
   "source": [
    "#Creating final data for plotting\n",
    "final_graph = normalizer.inverse_transform(ds_new).tolist()"
   ]
  },
  {
   "cell_type": "code",
   "execution_count": 75,
   "id": "0beae7c0",
   "metadata": {},
   "outputs": [
    {
     "data": {
      "text/plain": [
       "<matplotlib.legend.Legend at 0x1b2f6a75220>"
      ]
     },
     "execution_count": 75,
     "metadata": {},
     "output_type": "execute_result"
    },
    {
     "data": {
      "image/png": "[encoded data removed]",
      "text/plain": [
       "<Figure size 432x288 with 1 Axes>"
      ]
     },
     "metadata": {},
     "output_type": "display_data"
    }
   ],
   "source": [
    "#Plotting final results with predicted value after 30 Days\n",
    "plt.plot(final_graph,)\n",
    "plt.ylabel(\"Price\")\n",
    "plt.xlabel(\"Time\")\n",
    "plt.title(\"{0} prediction of next month open\".format('^NSEI'))\n",
    "plt.axhline(y=final_graph[len(final_graph)-1], color = 'red', linestyle = ':', label = 'NEXT 30D: {0}'.format(round(float(*final_graph[len(final_graph)-1]),2)))\n",
    "plt.legend()"
   ]
  },
  {
   "cell_type": "code",
   "execution_count": 79,
   "id": "6ccd4e7a",
   "metadata": {},
   "outputs": [
    {
     "name": "stdout",
     "output_type": "stream",
     "text": [
      "[11777.5498046875]\n",
      "[11464.2998046875]\n",
      "[11478.5498046875]\n",
      "[11566.2001953125]\n",
      "[11354.400390625]\n",
      "[11359.599609375]\n",
      "[11378.5498046875]\n",
      "[11218.599609375]\n",
      "[11363.2998046875]\n",
      "[11447.7998046875]\n",
      "[11540.150390625]\n",
      "[11487.2001953125]\n",
      "[11538.4501953125]\n",
      "[11539.400390625]\n",
      "[11584.099609375]\n",
      "[11503.7998046875]\n",
      "[11301.75]\n",
      "[11258.75]\n",
      "[11011.0]\n",
      "[10910.400390625]\n",
      "[11140.849609375]\n",
      "[11288.599609375]\n",
      "[11244.4501953125]\n",
      "[11364.4501953125]\n",
      "[11487.7998046875]\n",
      "[11603.4501953125]\n",
      "[11679.25]\n",
      "[11835.400390625]\n",
      "[11852.0498046875]\n",
      "[11973.5498046875]\n",
      "[11934.650390625]\n",
      "[11917.400390625]\n",
      "[12023.4501953125]\n",
      "[11727.400390625]\n",
      "[11879.2001953125]\n",
      "[11861.0]\n",
      "[11958.5498046875]\n",
      "[11890.0]\n",
      "[11957.900390625]\n",
      "[11937.400390625]\n",
      "[11807.099609375]\n",
      "[11922.599609375]\n",
      "[11633.2998046875]\n",
      "[11678.4501953125]\n",
      "[11697.349609375]\n",
      "[11734.4501953125]\n",
      "[11783.349609375]\n",
      "[12062.400390625]\n",
      "[12156.650390625]\n",
      "[12399.400390625]\n",
      "[12556.400390625]\n",
      "[12680.599609375]\n",
      "[12702.150390625]\n",
      "[12659.7001953125]\n",
      "[12932.5]\n",
      "[12860.099609375]\n",
      "[12839.5]\n",
      "[12813.400390625]\n",
      "[12960.2998046875]\n",
      "[13002.599609375]\n",
      "[13130.0]\n",
      "[12906.4501953125]\n",
      "[13012.0498046875]\n",
      "[13062.2001953125]\n",
      "[13121.400390625]\n",
      "[13215.2998046875]\n",
      "[13177.400390625]\n",
      "[13264.849609375]\n",
      "[13393.849609375]\n",
      "[13458.099609375]\n",
      "[13488.5]\n",
      "[13512.2998046875]\n",
      "[13571.4501953125]\n",
      "[13547.2001953125]\n",
      "[13663.099609375]\n",
      "[13713.5498046875]\n",
      "[13764.400390625]\n",
      "[13741.900390625]\n",
      "[13373.650390625]\n",
      "[13473.5]\n",
      "[13672.150390625]\n",
      "[13815.150390625]\n",
      "[13910.349609375]\n",
      "[13980.900390625]\n",
      "[13970.0]\n",
      "[13996.099609375]\n",
      "[14104.349609375]\n",
      "[14075.150390625]\n",
      "[14240.9501953125]\n",
      "[14253.75]\n",
      "[14258.400390625]\n",
      "[14474.0498046875]\n",
      "[14473.7998046875]\n",
      "[14639.7998046875]\n",
      "[14550.0498046875]\n",
      "[14594.349609375]\n",
      "[14453.2998046875]\n",
      "[14371.650390625]\n",
      "[14538.2998046875]\n",
      "[14730.9501953125]\n",
      "[14583.400390625]\n",
      "[14477.7998046875]\n",
      "[14237.9501953125]\n",
      "[13810.400390625]\n",
      "[13946.599609375]\n",
      "[13758.599609375]\n",
      "[14481.099609375]\n",
      "[14754.900390625]\n",
      "[14789.0498046875]\n",
      "[14952.599609375]\n",
      "[15064.2998046875]\n",
      "[15164.150390625]\n",
      "[15119.0498046875]\n",
      "[15073.25]\n",
      "[15186.2001953125]\n",
      "[15270.2998046875]\n",
      "[15371.4501953125]\n",
      "[15279.900390625]\n",
      "[15238.7001953125]\n",
      "[15074.7998046875]\n",
      "[14999.0498046875]\n",
      "[14782.25]\n",
      "[14729.150390625]\n",
      "[15079.849609375]\n",
      "[14888.599609375]\n",
      "[14702.5]\n",
      "[14865.2998046875]\n",
      "[15064.400390625]\n",
      "[15026.75]\n",
      "[14977.9501953125]\n",
      "[15002.4501953125]\n",
      "[15049.900390625]\n",
      "[15202.150390625]\n",
      "[15321.150390625]\n",
      "[15048.400390625]\n",
      "[14996.099609375]\n",
      "[14946.5498046875]\n",
      "[14855.5]\n",
      "[14471.150390625]\n",
      "[14736.2998046875]\n",
      "[14768.5498046875]\n",
      "[14712.4501953125]\n",
      "[14570.900390625]\n",
      "[14506.2998046875]\n",
      "[14628.5]\n",
      "[14811.849609375]\n",
      "[14798.400390625]\n",
      "[14837.7001953125]\n",
      "[14737.0]\n",
      "[14716.4501953125]\n",
      "[14875.650390625]\n",
      "[14882.650390625]\n",
      "[14644.650390625]\n",
      "[14364.900390625]\n",
      "[14522.400390625]\n",
      "[14599.599609375]\n",
      "[14306.599609375]\n",
      "[14526.7001953125]\n",
      "[14219.150390625]\n",
      "[14326.349609375]\n",
      "[14449.4501953125]\n",
      "[14493.7998046875]\n",
      "[14710.5]\n",
      "[14979.0]\n",
      "[14747.349609375]\n",
      "[14481.0498046875]\n",
      "[14687.25]\n",
      "[14604.150390625]\n",
      "[14668.349609375]\n",
      "[14816.849609375]\n",
      "[14928.25]\n",
      "[14789.7001953125]\n",
      "[14823.5498046875]\n",
      "[14749.400390625]\n",
      "[14756.25]\n",
      "[15067.2001953125]\n",
      "[15058.599609375]\n",
      "[15042.599609375]\n",
      "[14987.7998046875]\n",
      "[15211.349609375]\n",
      "[15291.75]\n",
      "[15257.0498046875]\n",
      "[15323.9501953125]\n",
      "[15421.2001953125]\n",
      "[15437.75]\n",
      "[15629.650390625]\n",
      "[15520.349609375002]\n",
      "[15655.5498046875]\n",
      "[15712.500000000002]\n",
      "[15725.099609375]\n",
      "[15773.900390625002]\n",
      "[15766.2998046875]\n",
      "[15692.099609375]\n",
      "[15796.4501953125]\n",
      "[15791.400390625]\n",
      "[15866.950195312502]\n",
      "[15847.5]\n",
      "[15648.299804687502]\n",
      "[15756.5]\n",
      "[15525.849609375]\n",
      "[15840.5]\n",
      "[15862.7998046875]\n",
      "[15737.2998046875]\n",
      "[15839.349609375]\n",
      "[15915.349609375]\n",
      "[15807.499999999998]\n",
      "[15776.900390625]\n",
      "[15755.049804687502]\n",
      "[15705.849609375]\n",
      "[15793.400390625]\n",
      "[15813.749999999998]\n",
      "[15819.599609375002]\n",
      "[15855.400390625002]\n",
      "[15688.250000000002]\n",
      "[15766.7998046875]\n",
      "[15794.0]\n",
      "[15808.7001953125]\n",
      "[15872.150390625002]\n",
      "[15958.349609375]\n",
      "[15754.5]\n",
      "[15703.9501953125]\n",
      "[15736.599609375]\n",
      "[15856.7998046875]\n",
      "[15849.299804687502]\n",
      "[15860.499999999998]\n",
      "[15761.549804687498]\n",
      "[15762.700195312502]\n",
      "[15800.599609375]\n",
      "[15874.900390625]\n",
      "[15951.549804687502]\n",
      "[16195.25]\n",
      "[16288.9501953125]\n",
      "[16304.400390625002]\n",
      "[16281.349609374998]\n",
      "[16274.7998046875]\n",
      "[16327.299804687498]\n",
      "[16303.650390625]\n",
      "[16385.69921875]\n",
      "[16518.400390625]\n",
      "[16545.25]\n",
      "[16691.94921875]\n",
      "[16382.500000000002]\n",
      "[16592.25]\n",
      "[16561.400390625]\n",
      "[16654.0]\n",
      "[16627.94921875]\n",
      "[16642.55078125]\n",
      "[16775.849609375]\n",
      "[16947.5]\n",
      "[17185.599609375]\n",
      "[17095.400390625]\n",
      "[17262.44921875]\n",
      "[17399.349609375]\n",
      "[17401.55078125]\n",
      "[17375.75]\n",
      "[17312.849609375]\n",
      "[17363.55078125]\n",
      "[17420.349609375]\n",
      "[17387.650390625]\n",
      "[17539.19921875]\n",
      "[17709.650390625]\n",
      "[17443.849609375]\n",
      "[17450.5]\n",
      "[17580.900390625]\n",
      "[17670.849609375]\n",
      "[17897.44921875]\n",
      "[17932.19921875]\n",
      "[17906.44921875]\n",
      "[17657.94921875]\n",
      "[17718.900390625]\n",
      "[17531.900390625]\n",
      "[17615.55078125]\n",
      "[17661.349609375]\n",
      "[17861.5]\n",
      "[17810.55078125]\n",
      "[17886.849609375]\n",
      "[17867.55078125]\n",
      "[17915.80078125]\n",
      "[18097.849609375]\n",
      "[18272.849609375]\n",
      "[18500.099609375]\n",
      "[18602.349609375]\n",
      "[18439.900390625]\n",
      "[18382.69921875]\n",
      "[18230.69921875]\n",
      "[18229.5]\n",
      "[18154.5]\n",
      "[18295.849609375]\n",
      "[18187.650390625]\n",
      "[17833.05078125]\n",
      "[17783.150390625]\n",
      "[17970.900390625]\n",
      "[17947.94921875]\n",
      "[17935.05078125]\n",
      "[18040.19921875]\n",
      "[18084.349609375]\n",
      "[17973.44921875]\n",
      "[17967.44921875]\n",
      "[17977.599609375]\n",
      "[18140.94921875]\n",
      "[18127.05078125]\n",
      "[17939.349609375]\n",
      "[17890.55078125]\n",
      "[17796.25]\n",
      "[17281.75]\n",
      "[17550.05078125]\n",
      "[17417.30078125]\n",
      "[17338.75]\n",
      "[17055.80078125]\n",
      "[17051.150390625]\n",
      "[17104.400390625]\n",
      "[17183.19921875]\n",
      "[17424.900390625]\n",
      "[17209.05078125]\n",
      "[17044.099609375]\n",
      "[17315.25]\n",
      "[17524.400390625]\n",
      "[17476.05078125]\n",
      "[17619.099609375]\n",
      "[17283.19921875]\n",
      "[17323.650390625]\n",
      "[17373.0]\n",
      "[17276.0]\n",
      "[16824.25]\n",
      "[16773.150390625]\n",
      "[16865.55078125]\n",
      "[17066.80078125]\n",
      "[17149.5]\n",
      "[16937.75]\n",
      "[17177.599609375]\n",
      "[17220.099609375]\n",
      "[17201.44921875]\n",
      "[17244.5]\n",
      "[17387.150390625]\n",
      "[17681.400390625]\n",
      "[17820.099609375]\n",
      "[17768.5]\n",
      "[17797.599609375]\n",
      "[17913.30078125]\n",
      "[17997.75]\n",
      "[18170.400390625]\n",
      "[18257.0]\n",
      "[18185.0]\n",
      "[18235.650390625]\n",
      "[18337.19921875]\n",
      "[18129.19921875]\n",
      "[17921.0]\n",
      "[17613.69921875]\n",
      "[17575.150390625]\n",
      "[17001.55078125]\n",
      "[17062.0]\n",
      "[17208.30078125]\n",
      "[17301.05078125]\n",
      "[17529.44921875]\n",
      "[17706.19921875]\n",
      "[17767.75]\n",
      "[17590.19921875]\n",
      "[17456.30078125]\n",
      "[17279.849609375]\n",
      "[17370.099609375]\n",
      "[17554.099609375]\n",
      "[17451.0]\n",
      "[17076.150390625]\n",
      "[16933.25]\n",
      "[17408.44921875]\n",
      "[17396.55078125]\n",
      "[17236.05078125]\n",
      "[17192.25]\n",
      "[16847.94921875]\n",
      "[17194.5]\n",
      "[16548.900390625]\n",
      "[16515.650390625]\n",
      "[16481.599609375]\n",
      "[16593.099609375]\n",
      "[16723.19921875]\n",
      "[16339.4501953125]\n",
      "[15867.9501953125]\n",
      "[15747.749999999998]\n",
      "[16077.999999999998]\n",
      "[16757.099609375]\n",
      "[16528.80078125]\n",
      "[16633.69921875]\n",
      "[16900.650390625]\n",
      "[16876.650390625]\n",
      "[17202.900390625]\n",
      "[17329.5]\n",
      "[17120.400390625]\n",
      "[17405.05078125]\n",
      "[17094.94921875]\n",
      "[17289.0]\n",
      "[17181.849609375]\n",
      "[17297.19921875]\n",
      "[17468.150390625]\n",
      "[17519.19921875]\n",
      "[17436.900390625]\n",
      "[17809.099609375]\n",
      "[18080.599609375]\n",
      "[17842.75]\n",
      "[17723.30078125]\n",
      "[17698.150390625]\n",
      "[17740.900390625]\n",
      "[17584.849609375]\n",
      "[17599.900390625]\n",
      "[17183.44921875]\n",
      "[17258.94921875]\n",
      "[17045.25]\n",
      "[17234.599609375]\n",
      "[17242.75]\n",
      "[17009.05078125]\n",
      "[17121.30078125]\n",
      "[17073.349609375]\n",
      "[17189.5]\n",
      "[17329.25]\n",
      "[16924.44921875]\n",
      "[17096.599609375]\n",
      "[16854.75]\n",
      "[16415.55078125]\n",
      "[16227.700195312502]\n",
      "[16248.900390625002]\n",
      "[16270.0498046875]\n",
      "[16021.099609374998]\n",
      "[15977.000000000002]\n",
      "[15845.099609375]\n",
      "[15912.599609375]\n",
      "[16318.150390625]\n",
      "[15917.400390624998]\n",
      "[16043.799804687502]\n",
      "[16290.9501953125]\n",
      "[16225.5498046875]\n",
      "[16196.349609375]\n",
      "[16105.0]\n",
      "[16296.599609375]\n",
      "[16527.900390625]\n",
      "[16578.44921875]\n",
      "[16594.400390625]\n",
      "[16481.650390625]\n",
      "[16761.650390625]\n",
      "[16530.69921875]\n",
      "[16469.599609375]\n",
      "[16474.94921875]\n",
      "[16263.849609375]\n",
      "[16283.9501953125]\n",
      "[15877.5498046875]\n",
      "[15674.249999999998]\n",
      "[15729.250000000002]\n",
      "[15832.25]\n",
      "[15272.650390625]\n",
      "[15334.5]\n",
      "[15455.9501953125]\n",
      "[15545.650390625]\n",
      "[15451.549804687502]\n",
      "[15657.400390624998]\n",
      "[15926.2001953125]\n",
      "[15757.4501953125]\n",
      "[15701.700195312498]\n",
      "[15774.499999999998]\n",
      "[15703.700195312498]\n",
      "[15710.500000000002]\n",
      "[15909.150390625002]\n",
      "[15818.200195312498]\n",
      "[16113.75]\n",
      "[16273.650390625002]\n",
      "[16136.150390625002]\n",
      "[16126.2001953125]\n",
      "[16128.2001953125]\n",
      "[16018.849609374998]\n",
      "[16010.799804687502]\n",
      "[16151.400390624998]\n",
      "[16187.049804687502]\n",
      "[16562.80078125]\n",
      "[16523.55078125]\n",
      "[16661.25]\n",
      "[16662.55078125]\n",
      "[16632.900390625]\n",
      "[16475.349609375]\n",
      "[16774.849609375]\n",
      "[17079.5]\n",
      "[17243.19921875]\n",
      "[17310.150390625]\n",
      "[17349.25]\n",
      "[17463.099609375]\n",
      "[17423.650390625]\n",
      "[17401.5]\n",
      "[17566.099609375]\n",
      "[17711.650390625]\n",
      "[17659.650390625]\n",
      "[17797.19921875]\n",
      "[17868.150390625]\n",
      "[17898.650390625]\n",
      "[17966.55078125]\n",
      "[17682.900390625]\n",
      "[17357.349609375]\n",
      "[17525.44921875]\n",
      "[17679.0]\n",
      "[17619.30078125]\n",
      "[17188.650390625]\n",
      "[17414.94921875]\n",
      "[18124.741509220097]\n",
      "[18123.946512008086]\n",
      "[18124.791024617385]\n",
      "[18129.86268503219]\n",
      "[18140.270546456566]\n",
      "[18156.132895672927]\n",
      "[18176.96558213001]\n",
      "[18201.967648429098]\n",
      "[18230.23956485279]\n",
      "[18260.8886788222]\n",
      "[18293.116783794016]\n",
      "[18326.253588001244]\n",
      "[18359.754422073718]\n",
      "[18393.20940855611]\n",
      "[18426.311368594877]\n",
      "[18458.843443088932]\n",
      "[18490.663504509022]\n",
      "[18521.67114663287]\n",
      "[18551.81181082828]\n",
      "[18581.04652664368]\n",
      "[18609.36337370565]\n",
      "[18636.748139261268]\n",
      "[18663.19486312382]\n",
      "[18688.70629614871]\n",
      "[18713.27601967333]\n",
      "[18736.90128284227]\n",
      "[18759.580251751933]\n",
      "[18781.307424691506]\n",
      "[18802.079133853782]\n",
      "[18821.89446228696]\n",
      "[18124.741509220097]\n",
      "[18123.946512008086]\n",
      "[18124.791024617385]\n",
      "[18129.86268503219]\n",
      "[18140.270546456566]\n",
      "[18156.132895672927]\n",
      "[18176.96558213001]\n",
      "[18201.967648429098]\n",
      "[18230.23956485279]\n",
      "[18260.8886788222]\n",
      "[18293.116783794016]\n",
      "[18326.253588001244]\n",
      "[18359.754422073718]\n",
      "[18393.20940855611]\n",
      "[18426.311368594877]\n",
      "[18458.843443088932]\n",
      "[18490.663504509022]\n",
      "[18521.67114663287]\n",
      "[18551.81181082828]\n",
      "[18581.04652664368]\n",
      "[18609.36337370565]\n",
      "[18636.748139261268]\n",
      "[18663.19486312382]\n",
      "[18688.70629614871]\n",
      "[18713.27601967333]\n",
      "[18736.90128284227]\n",
      "[18759.580251751933]\n",
      "[18781.307424691506]\n",
      "[18802.079133853782]\n",
      "[18821.89446228696]\n",
      "[18124.741509220097]\n",
      "[18123.946512008086]\n",
      "[18124.791024617385]\n",
      "[18129.86268503219]\n",
      "[18140.270546456566]\n",
      "[18156.132895672927]\n",
      "[18176.96558213001]\n",
      "[18201.967648429098]\n",
      "[18230.23956485279]\n",
      "[18260.8886788222]\n",
      "[18293.116783794016]\n",
      "[18326.253588001244]\n",
      "[18359.754422073718]\n",
      "[18393.20940855611]\n",
      "[18426.311368594877]\n",
      "[18458.843443088932]\n",
      "[18490.663504509022]\n",
      "[18521.67114663287]\n",
      "[18551.81181082828]\n",
      "[18581.04652664368]\n",
      "[18609.36337370565]\n",
      "[18636.748139261268]\n",
      "[18663.19486312382]\n",
      "[18688.70629614871]\n",
      "[18713.27601967333]\n",
      "[18736.90128284227]\n",
      "[18759.580251751933]\n",
      "[18781.307424691506]\n",
      "[18802.079133853782]\n",
      "[18821.89446228696]\n"
     ]
    }
   ],
   "source": [
    "for i in range(0,len(final_graph)):\n",
    "    print(final_graph[i])\n"
   ]
  },
  {
   "cell_type": "code",
   "execution_count": 80,
   "id": "908d76f1",
   "metadata": {},
   "outputs": [],
   "source": [
    "writer=pd.ExcelWriter('nifty.xlsx')"
   ]
  },
  {
   "cell_type": "code",
   "execution_count": 81,
   "id": "9383cd38",
   "metadata": {},
   "outputs": [],
   "source": [
    "data1=pd.DataFrame({'Predictions':final_graph})"
   ]
  },
  {
   "cell_type": "code",
   "execution_count": 82,
   "id": "df86d47e",
   "metadata": {},
   "outputs": [],
   "source": [
    "data1.to_excel(writer)"
   ]
  },
  {
   "cell_type": "code",
   "execution_count": 83,
   "id": "f7889317",
   "metadata": {},
   "outputs": [],
   "source": [
    "writer.save()"
   ]
  },
  {
   "cell_type": "code",
   "execution_count": 84,
   "id": "2e9cb552",
   "metadata": {},
   "outputs": [
    {
     "data": {
      "text/plain": [
       "'C:\\\\Users\\\\36kap\\\\Downloads'"
      ]
     },
     "execution_count": 84,
     "metadata": {},
     "output_type": "execute_result"
    }
   ],
   "source": [
    "pwd"
   ]
  },
  {
   "cell_type": "code",
   "execution_count": null,
   "id": "05de2b53",
   "metadata": {},
   "outputs": [],
   "source": []
  }
 ],
 "metadata": {
  "kernelspec": {
   "display_name": "Python 3 (ipykernel)",
   "language": "python",
   "name": "python3"
  },
  "language_info": {
   "codemirror_mode": {
    "name": "ipython",
    "version": 3
   },
   "file_extension": ".py",
   "mimetype": "text/x-python",
   "name": "python",
   "nbconvert_exporter": "python",
   "pygments_lexer": "ipython3",
   "version": "3.9.12"
  }
 },
 "nbformat": 4,
 "nbformat_minor": 5
}
